{
 "cells": [
  {
   "cell_type": "code",
   "execution_count": 16,
   "metadata": {},
   "outputs": [],
   "source": [
    "import matplotlib.pyplot as plt\n",
    "import numpy as np\n",
    "\n",
    "import torch\n",
    "\n",
    "# DeepMoD stuff\n",
    "from deepymod import DeepMoD\n",
    "from deepymod.model.func_approx import NN, Siren\n",
    "from deepymod.model.constraint import LeastSquares\n",
    "from deepymod.model.sparse_estimators import Threshold\n",
    "from deepymod.training import train\n",
    "from deepymod.training.sparsity_scheduler import TrainTestPeriodic\n",
    "\n",
    "from reaction_diffusion import OneDimensionalRDEquations, random_periodic\n",
    "\n",
    "# Settings for reproducibility\n",
    "np.random.seed(42)\n",
    "torch.manual_seed(0)\n",
    "\n",
    "\n",
    "if torch.cuda.is_available():\n",
    "    device = 'cuda'\n",
    "else:\n",
    "    device = 'cpu'\n",
    "\n",
    "\n",
    "%load_ext autoreload\n",
    "%autoreload 2"
   ]
  },
  {
   "cell_type": "code",
   "execution_count": 17,
   "metadata": {},
   "outputs": [],
   "source": [
    "def random_initialiser(shape):\n",
    "    return(\n",
    "        np.random.normal(loc=0, scale=0.05, size=shape),\n",
    "        np.random.normal(loc=0, scale=0.05, size=shape)\n",
    "    )"
   ]
  },
  {
   "cell_type": "code",
   "execution_count": 18,
   "metadata": {},
   "outputs": [],
   "source": [
    "def laplacian2D(a, dx):\n",
    "    return (\n",
    "        - 4 * a\n",
    "        + np.roll(a,1,axis=0) \n",
    "        + np.roll(a,-1,axis=0)\n",
    "        + np.roll(a,+1,axis=1)\n",
    "        + np.roll(a,-1,axis=1)\n",
    "    ) / (dx ** 2)"
   ]
  },
  {
   "cell_type": "code",
   "execution_count": 49,
   "metadata": {},
   "outputs": [],
   "source": [
    "class TwoDimensionalRDEquations():\n",
    "    def __init__(self, Da, Db, Ra, Rb,\n",
    "                 initialiser=random_initialiser,\n",
    "                 width=1000, height=1000,\n",
    "                 dx=1, dt=0.1, steps=1):\n",
    "        \n",
    "        self.Da = Da\n",
    "        self.Db = Db\n",
    "        self.Ra = Ra\n",
    "        self.Rb = Rb\n",
    "        self.Ya = []\n",
    "        self.Yb = []\n",
    "        \n",
    "        self.initialiser = initialiser\n",
    "        self.width = width\n",
    "        self.height = height\n",
    "        self.shape = (width, height)\n",
    "        self.dx = dx\n",
    "        self.dt = dt\n",
    "        self.steps = steps\n",
    "        \n",
    "    def initialise(self):\n",
    "        self.t = 0\n",
    "        self.a, self.b = self.initialiser(self.shape)\n",
    "    \n",
    "    def make_grid(self):\n",
    "        self.x_arr = np.arange(0,self.width,self.dx)\n",
    "        self.y_arr = np.arange(0,self.width,self.dx)\n",
    "        self.t_arr = self.dt*np.arange(0,self.steps)\n",
    "        self.x_grid, self.y_grid, self.t_grid = np.meshgrid(self.x_arr, self.y_arr, self.t_arr, indexing='ij')\n",
    "        \n",
    "        \n",
    "    def update(self):\n",
    "        for _ in range(self.steps):\n",
    "            self.t += self.dt\n",
    "            self._update()\n",
    "\n",
    "    def _update(self):\n",
    "        \n",
    "        # unpack so we don't have to keep writing \"self\"\n",
    "        a,b,Da,Db,Ra,Rb,dt,dx = (\n",
    "            self.a, self.b,\n",
    "            self.Da, self.Db,\n",
    "            self.Ra, self.Rb,\n",
    "            self.dt, self.dx\n",
    "        )\n",
    "        \n",
    "        La = laplacian2D(a, dx)\n",
    "        Lb = laplacian2D(b, dx)\n",
    "        \n",
    "        delta_a = dt * (Da * La + Ra(a,b))\n",
    "        delta_b = dt * (Db * Lb + Rb(a,b))\n",
    "        \n",
    "        self.a += delta_a\n",
    "        self.b += delta_b\n",
    "                \n",
    "        self.Ya.append(np.array(self.a))\n",
    "        self.Yb.append(np.array(self.b))"
   ]
  },
  {
   "cell_type": "code",
   "execution_count": 143,
   "metadata": {},
   "outputs": [],
   "source": [
    "Da, Db, alpha, beta = 5, 10, -0.02, 5\n",
    "\n",
    "def Ra(a,b): return a - a ** 3 - b + alpha\n",
    "def Rb(a,b): return (a - b) * beta\n",
    "\n",
    "width = 100\n",
    "dx = 1\n",
    "dt = 0.001"
   ]
  },
  {
   "cell_type": "code",
   "execution_count": 144,
   "metadata": {},
   "outputs": [],
   "source": [
    "solution = TwoDimensionalRDEquations(\n",
    "    Da, Db, Ra, Rb, \n",
    "    width=width, height=width, \n",
    "    dx=dx, dt=dt, steps=2000\n",
    ")"
   ]
  },
  {
   "cell_type": "code",
   "execution_count": 145,
   "metadata": {},
   "outputs": [],
   "source": [
    "solution.initialise()\n",
    "solution.update()\n",
    "solution.make_grid()"
   ]
  },
  {
   "cell_type": "code",
   "execution_count": 146,
   "metadata": {},
   "outputs": [
    {
     "data": {
      "text/plain": [
       "(100, 100, 2000)"
      ]
     },
     "execution_count": 146,
     "metadata": {},
     "output_type": "execute_result"
    }
   ],
   "source": [
    "solution.x_grid.shape"
   ]
  },
  {
   "cell_type": "code",
   "execution_count": 147,
   "metadata": {},
   "outputs": [
    {
     "data": {
      "text/plain": [
       "[<matplotlib.lines.Line2D at 0x1a5a90fd50>]"
      ]
     },
     "execution_count": 147,
     "metadata": {},
     "output_type": "execute_result"
    },
    {
     "data": {
      "image/png": "[encoded data removed]",
      "text/plain": [
       "<Figure size 432x288 with 1 Axes>"
      ]
     },
     "metadata": {
      "needs_background": "light"
     },
     "output_type": "display_data"
    }
   ],
   "source": [
    "plt.plot(solution.Ya[100][10])\n",
    "plt.plot(solution.Ya[190][10])"
   ]
  },
  {
   "cell_type": "code",
   "execution_count": 149,
   "metadata": {},
   "outputs": [
    {
     "data": {
      "text/plain": [
       "<matplotlib.contour.QuadContourSet at 0x1a4666c410>"
      ]
     },
     "execution_count": 149,
     "metadata": {},
     "output_type": "execute_result"
    },
    {
     "data": {
      "image/png": "[encoded data removed]",
      "text/plain": [
       "<Figure size 432x288 with 1 Axes>"
      ]
     },
     "metadata": {
      "needs_background": "light"
     },
     "output_type": "display_data"
    }
   ],
   "source": [
    "plt.contourf(solution.Yb[500])"
   ]
  },
  {
   "cell_type": "code",
   "execution_count": 150,
   "metadata": {},
   "outputs": [],
   "source": [
    "start=500"
   ]
  },
  {
   "cell_type": "code",
   "execution_count": 151,
   "metadata": {},
   "outputs": [],
   "source": [
    "x_grid, y_grid, t_grid = solution.x_grid[:,:,start:]/np.max(solution.x_grid), solution.y_grid[:,:,start:]/np.max(solution.y_grid),solution.t_grid[:,:,start:]/np.max(solution.t_grid)"
   ]
  },
  {
   "cell_type": "code",
   "execution_count": 152,
   "metadata": {},
   "outputs": [],
   "source": [
    "y1, y2 = np.array(solution.Ya[start:]).T.flatten(), np.array(solution.Yb[start:]).T.flatten()"
   ]
  },
  {
   "cell_type": "code",
   "execution_count": 153,
   "metadata": {},
   "outputs": [],
   "source": [
    "X = np.transpose((t_grid.flatten(), x_grid.flatten(), y_grid.flatten()))\n",
    "y = np.transpose((y1/np.max(y1),  y2/np.max(y2)))"
   ]
  },
  {
   "cell_type": "code",
   "execution_count": 154,
   "metadata": {},
   "outputs": [
    {
     "data": {
      "text/plain": [
       "(15000000, 3)"
      ]
     },
     "execution_count": 154,
     "metadata": {},
     "output_type": "execute_result"
    }
   ],
   "source": [
    "X.shape"
   ]
  },
  {
   "cell_type": "code",
   "execution_count": 155,
   "metadata": {},
   "outputs": [
    {
     "data": {
      "text/plain": [
       "(15000000, 2)"
      ]
     },
     "execution_count": 155,
     "metadata": {},
     "output_type": "execute_result"
    }
   ],
   "source": [
    "y.shape"
   ]
  },
  {
   "cell_type": "code",
   "execution_count": 62,
   "metadata": {},
   "outputs": [],
   "source": [
    "number_of_samples = 10000\n",
    "idx = np.random.permutation(y.shape[0])\n",
    "X_train = torch.tensor(X[idx, :][:number_of_samples], dtype=torch.float32).to(device)\n",
    "y_train = torch.tensor(y[idx, :][:number_of_samples], dtype=torch.float32).to(device)"
   ]
  },
  {
   "cell_type": "code",
   "execution_count": 63,
   "metadata": {},
   "outputs": [],
   "source": [
    "from torch.autograd import grad\n",
    "from itertools import combinations\n",
    "from functools import reduce\n",
    "from typing import Tuple\n",
    "from deepymod.utils.types import TensorList\n",
    "from deepymod import Library\n",
    "\n",
    "class Library_custom(Library):\n",
    "    \"\"\"[summary]\n",
    "\n",
    "    Args:\n",
    "        Library ([type]): [description]\n",
    "    \"\"\"\n",
    "    def __init__(self) -> None:\n",
    "        super().__init__()\n",
    "\n",
    "    def library(self, input: Tuple[torch.Tensor, torch.Tensor]) -> Tuple[TensorList, TensorList]:\n",
    "    \n",
    "        prediction, data = input\n",
    "        samples = prediction.shape[0]\n",
    "        poly_list = []\n",
    "        deriv_list = []\n",
    "        time_deriv_list = []\n",
    "        \n",
    "        \n",
    "        # Construct the theta matrix\n",
    "        C = torch.ones_like(prediction[:,0]).view(samples, -1)\n",
    "        u = prediction[:,0].view(samples, -1)\n",
    "        v = prediction[:,1].view(samples, -1)\n",
    "        \n",
    "        du = grad(u, data, grad_outputs=torch.ones_like(u), create_graph=True)[0]\n",
    "        u_x = du[:, 1:2]\n",
    "        u_y = du[:, 2:3]\n",
    "        dux = grad(u_x, data, grad_outputs=torch.ones_like(u), create_graph=True)[0]\n",
    "        u_xx = dux[:, 1:2]\n",
    "        duy = grad(u_y, data, grad_outputs=torch.ones_like(u), create_graph=True)[0]\n",
    "        u_yy = dux[:, 1:2]\n",
    "        \n",
    "        dv = grad(v, data, grad_outputs=torch.ones_like(u), create_graph=True)[0]\n",
    "        v_x = dv[:, 1:2]\n",
    "        v_y = dv[:, 2:3]\n",
    "        dvx = grad(v_x, data, grad_outputs=torch.ones_like(u), create_graph=True)[0]\n",
    "        v_xx = dvx[:, 1:2]\n",
    "        dvy = grad(v_y, data, grad_outputs=torch.ones_like(u), create_graph=True)[0]\n",
    "        v_yy = dvy[:, 2:3]\n",
    "        \n",
    "        theta = torch.cat((C, u, u*u, u*u*u, v, v*v, v*v*v, u_x, u_y, u_xx, u_yy, v_x, v_y, v_xx, v_yy),dim=1)\n",
    "        \n",
    "        \n",
    "        \n",
    "        # Construct a list of time_derivatives \n",
    "        time_deriv_list = []\n",
    "        for output in torch.arange(prediction.shape[1]):\n",
    "            dy = grad(prediction[:,output], data, grad_outputs=torch.ones_like(prediction[:,output]), create_graph=True)[0]\n",
    "            time_deriv = dy[:, 0:1]\n",
    "            time_deriv_list.append(time_deriv)\n",
    "        \n",
    "        return time_deriv_list, [theta,theta]"
   ]
  },
  {
   "cell_type": "markdown",
   "metadata": {},
   "source": [
    "## Configuring DeepMoD"
   ]
  },
  {
   "cell_type": "markdown",
   "metadata": {},
   "source": [
    "Configuration of the function approximator: Here the first argument is the number of input and the last argument the number of output layers."
   ]
  },
  {
   "cell_type": "code",
   "execution_count": 64,
   "metadata": {},
   "outputs": [],
   "source": [
    "network = Siren(3, [50, 50, 50,50], 2)"
   ]
  },
  {
   "cell_type": "markdown",
   "metadata": {},
   "source": [
    "Configuration of the library function: We select athe library with a 2D spatial input. Note that that the max differential order has been pre-determined here out of convinience. So, for poly_order 1 the library contains the following 12 terms:\n",
    "* [$1, u_x, u_{xx}, u_{xxx}, u, u u_{x}, u u_{xx}, u u_{xxx}, u^2, u^2 u_{x}, u^2 u_{xx}, u^2 u_{xxx}$]"
   ]
  },
  {
   "cell_type": "code",
   "execution_count": 65,
   "metadata": {},
   "outputs": [],
   "source": [
    "library = Library_custom() "
   ]
  },
  {
   "cell_type": "markdown",
   "metadata": {},
   "source": [
    "Configuration of the sparsity estimator and sparsity scheduler used. In this case we use the most basic threshold-based Lasso estimator and a scheduler that asseses the validation loss after a given patience. If that value is smaller than 1e-5, the algorithm is converged.  "
   ]
  },
  {
   "cell_type": "code",
   "execution_count": 66,
   "metadata": {},
   "outputs": [],
   "source": [
    "estimator = Threshold(0.1) \n",
    "sparsity_scheduler = TrainTestPeriodic(periodicity=50, patience=10, delta=1e-5) "
   ]
  },
  {
   "cell_type": "markdown",
   "metadata": {},
   "source": [
    "Configuration of the sparsity estimator "
   ]
  },
  {
   "cell_type": "code",
   "execution_count": 67,
   "metadata": {},
   "outputs": [],
   "source": [
    "constraint = LeastSquares() \n",
    "# Configuration of the sparsity scheduler"
   ]
  },
  {
   "cell_type": "markdown",
   "metadata": {},
   "source": [
    "Now we instantiate the model and select the optimizer "
   ]
  },
  {
   "cell_type": "code",
   "execution_count": 68,
   "metadata": {},
   "outputs": [],
   "source": [
    "model = DeepMoD(network, library, estimator, constraint).to(device)"
   ]
  },
  {
   "cell_type": "code",
   "execution_count": 69,
   "metadata": {},
   "outputs": [],
   "source": [
    "# Defining optimizer\n",
    "optimizer = torch.optim.Adam(model.parameters(), betas=(0.99, 0.99), amsgrad=True, lr=2.5e-4) "
   ]
  },
  {
   "cell_type": "markdown",
   "metadata": {},
   "source": [
    "## Run DeepMoD "
   ]
  },
  {
   "cell_type": "markdown",
   "metadata": {},
   "source": [
    "We can now run DeepMoD using all the options we have set and the training data:\n",
    "* The directory where the tensorboard file is written (log_dir)\n",
    "* The ratio of train/test set used (split)\n",
    "* The maximum number of iterations performed (max_iterations)\n",
    "* The absolute change in L1 norm considered converged (delta)\n",
    "* The amount of epochs over which the absolute change in L1 norm is calculated (patience)"
   ]
  },
  {
   "cell_type": "code",
   "execution_count": 70,
   "metadata": {},
   "outputs": [
    {
     "name": "stdout",
     "output_type": "stream",
     "text": [
      "    75  MSE: 3.39e-02  Reg: 5.03e-04  L1: 3.51e+00 "
     ]
    },
    {
     "ename": "KeyboardInterrupt",
     "evalue": "",
     "output_type": "error",
     "traceback": [
      "\u001b[0;31m---------------------------------------------------------------------------\u001b[0m",
      "\u001b[0;31mKeyboardInterrupt\u001b[0m                         Traceback (most recent call last)",
      "\u001b[0;32m<ipython-input-70-30b29c4b0e59>\u001b[0m in \u001b[0;36m<module>\u001b[0;34m\u001b[0m\n\u001b[0;32m----> 1\u001b[0;31m \u001b[0mtrain\u001b[0m\u001b[0;34m(\u001b[0m\u001b[0mmodel\u001b[0m\u001b[0;34m,\u001b[0m \u001b[0mX_train\u001b[0m\u001b[0;34m,\u001b[0m \u001b[0my_train\u001b[0m\u001b[0;34m,\u001b[0m \u001b[0moptimizer\u001b[0m\u001b[0;34m,\u001b[0m\u001b[0msparsity_scheduler\u001b[0m\u001b[0;34m,\u001b[0m \u001b[0mlog_dir\u001b[0m\u001b[0;34m=\u001b[0m\u001b[0;34m'runs/Reaction/'\u001b[0m\u001b[0;34m,\u001b[0m \u001b[0msplit\u001b[0m\u001b[0;34m=\u001b[0m\u001b[0;36m0.8\u001b[0m\u001b[0;34m,\u001b[0m \u001b[0mmax_iterations\u001b[0m\u001b[0;34m=\u001b[0m\u001b[0;36m100000\u001b[0m\u001b[0;34m,\u001b[0m \u001b[0mdelta\u001b[0m\u001b[0;34m=\u001b[0m\u001b[0;36m2.5e-7\u001b[0m\u001b[0;34m,\u001b[0m \u001b[0mpatience\u001b[0m\u001b[0;34m=\u001b[0m\u001b[0;36m10\u001b[0m\u001b[0;34m)\u001b[0m\u001b[0;34m\u001b[0m\u001b[0;34m\u001b[0m\u001b[0m\n\u001b[0m",
      "\u001b[0;32m~/Documents/GitHub/DeePyMoD/src/deepymod/training/training.py\u001b[0m in \u001b[0;36mtrain\u001b[0;34m(model, data, target, optimizer, sparsity_scheduler, split, exp_ID, log_dir, max_iterations, write_iterations, **convergence_kwargs)\u001b[0m\n\u001b[1;32m     52\u001b[0m         \u001b[0;31m# Optimizer step\u001b[0m\u001b[0;34m\u001b[0m\u001b[0;34m\u001b[0m\u001b[0;34m\u001b[0m\u001b[0m\n\u001b[1;32m     53\u001b[0m         \u001b[0moptimizer\u001b[0m\u001b[0;34m.\u001b[0m\u001b[0mzero_grad\u001b[0m\u001b[0;34m(\u001b[0m\u001b[0;34m)\u001b[0m\u001b[0;34m\u001b[0m\u001b[0;34m\u001b[0m\u001b[0m\n\u001b[0;32m---> 54\u001b[0;31m         \u001b[0mloss\u001b[0m\u001b[0;34m.\u001b[0m\u001b[0mbackward\u001b[0m\u001b[0;34m(\u001b[0m\u001b[0;34m)\u001b[0m\u001b[0;34m\u001b[0m\u001b[0;34m\u001b[0m\u001b[0m\n\u001b[0m\u001b[1;32m     55\u001b[0m         \u001b[0moptimizer\u001b[0m\u001b[0;34m.\u001b[0m\u001b[0mstep\u001b[0m\u001b[0;34m(\u001b[0m\u001b[0;34m)\u001b[0m\u001b[0;34m\u001b[0m\u001b[0;34m\u001b[0m\u001b[0m\n\u001b[1;32m     56\u001b[0m \u001b[0;34m\u001b[0m\u001b[0m\n",
      "\u001b[0;32m~/opt/anaconda3/lib/python3.7/site-packages/torch/tensor.py\u001b[0m in \u001b[0;36mbackward\u001b[0;34m(self, gradient, retain_graph, create_graph)\u001b[0m\n\u001b[1;32m    193\u001b[0m                 \u001b[0mproducts\u001b[0m\u001b[0;34m.\u001b[0m \u001b[0mDefaults\u001b[0m \u001b[0mto\u001b[0m\u001b[0;31m \u001b[0m\u001b[0;31m`\u001b[0m\u001b[0;31m`\u001b[0m\u001b[0;32mFalse\u001b[0m\u001b[0;31m`\u001b[0m\u001b[0;31m`\u001b[0m\u001b[0;34m.\u001b[0m\u001b[0;34m\u001b[0m\u001b[0;34m\u001b[0m\u001b[0m\n\u001b[1;32m    194\u001b[0m         \"\"\"\n\u001b[0;32m--> 195\u001b[0;31m         \u001b[0mtorch\u001b[0m\u001b[0;34m.\u001b[0m\u001b[0mautograd\u001b[0m\u001b[0;34m.\u001b[0m\u001b[0mbackward\u001b[0m\u001b[0;34m(\u001b[0m\u001b[0mself\u001b[0m\u001b[0;34m,\u001b[0m \u001b[0mgradient\u001b[0m\u001b[0;34m,\u001b[0m \u001b[0mretain_graph\u001b[0m\u001b[0;34m,\u001b[0m \u001b[0mcreate_graph\u001b[0m\u001b[0;34m)\u001b[0m\u001b[0;34m\u001b[0m\u001b[0;34m\u001b[0m\u001b[0m\n\u001b[0m\u001b[1;32m    196\u001b[0m \u001b[0;34m\u001b[0m\u001b[0m\n\u001b[1;32m    197\u001b[0m     \u001b[0;32mdef\u001b[0m \u001b[0mregister_hook\u001b[0m\u001b[0;34m(\u001b[0m\u001b[0mself\u001b[0m\u001b[0;34m,\u001b[0m \u001b[0mhook\u001b[0m\u001b[0;34m)\u001b[0m\u001b[0;34m:\u001b[0m\u001b[0;34m\u001b[0m\u001b[0;34m\u001b[0m\u001b[0m\n",
      "\u001b[0;32m~/opt/anaconda3/lib/python3.7/site-packages/torch/autograd/__init__.py\u001b[0m in \u001b[0;36mbackward\u001b[0;34m(tensors, grad_tensors, retain_graph, create_graph, grad_variables)\u001b[0m\n\u001b[1;32m     97\u001b[0m     Variable._execution_engine.run_backward(\n\u001b[1;32m     98\u001b[0m         \u001b[0mtensors\u001b[0m\u001b[0;34m,\u001b[0m \u001b[0mgrad_tensors\u001b[0m\u001b[0;34m,\u001b[0m \u001b[0mretain_graph\u001b[0m\u001b[0;34m,\u001b[0m \u001b[0mcreate_graph\u001b[0m\u001b[0;34m,\u001b[0m\u001b[0;34m\u001b[0m\u001b[0;34m\u001b[0m\u001b[0m\n\u001b[0;32m---> 99\u001b[0;31m         allow_unreachable=True)  # allow_unreachable flag\n\u001b[0m\u001b[1;32m    100\u001b[0m \u001b[0;34m\u001b[0m\u001b[0m\n\u001b[1;32m    101\u001b[0m \u001b[0;34m\u001b[0m\u001b[0m\n",
      "\u001b[0;31mKeyboardInterrupt\u001b[0m: "
     ]
    }
   ],
   "source": [
    "train(model, X_train, y_train, optimizer,sparsity_scheduler, log_dir='runs/Reaction/', split=0.8, max_iterations=100000, delta=2.5e-7, patience=10) "
   ]
  },
  {
   "cell_type": "code",
   "execution_count": null,
   "metadata": {},
   "outputs": [],
   "source": []
  },
  {
   "cell_type": "code",
   "execution_count": null,
   "metadata": {},
   "outputs": [],
   "source": []
  }
 ],
 "metadata": {
  "kernelspec": {
   "display_name": "Python 3",
   "language": "python",
   "name": "python3"
  },
  "language_info": {
   "codemirror_mode": {
    "name": "ipython",
    "version": 3
   },
   "file_extension": ".py",
   "mimetype": "text/x-python",
   "name": "python",
   "nbconvert_exporter": "python",
   "pygments_lexer": "ipython3",
   "version": "3.7.6"
  }
 },
 "nbformat": 4,
 "nbformat_minor": 4
}
